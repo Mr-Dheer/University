{
  "nbformat": 4,
  "nbformat_minor": 0,
  "metadata": {
    "colab": {
      "provenance": [],
      "include_colab_link": true
    },
    "kernelspec": {
      "name": "python3",
      "display_name": "Python 3"
    }
  },
  "cells": [
    {
      "cell_type": "markdown",
      "metadata": {
        "id": "view-in-github",
        "colab_type": "text"
      },
      "source": [
        "<a href=\"https://colab.research.google.com/github/Mr-Dheer/University/blob/main/4_2_The_Iris_problem.ipynb\" target=\"_parent\"><img src=\"https://colab.research.google.com/assets/colab-badge.svg\" alt=\"Open In Colab\"/></a>"
      ]
    },
    {
      "cell_type": "markdown",
      "metadata": {
        "id": "XGX_BRrJJpJj"
      },
      "source": [
        "#**The Iris Problem**\n",
        "\n",
        "*\tBotanists require you to help them design an algorithm to identify flower types from 4 key measurements.In order to do this they need to identiy appropriate variables. \n",
        "*\tThe data is stored in iris.csv [here](https://drive.google.com/open?id=1_7ttss_S-I4mmLqWoMjOvwddWfAvAx5Q).\n",
        "*\tGive some univariate statistics to describe the data.\n",
        "*\tWhat should you do with the missing data?\n",
        "* Which variables should you include in your analysis. Justify this.\n",
        "*\tCan you come up with a rules based algorithm to help the botanist?\n",
        "\n",
        "The image below shows where the various varibles from the flower are measured and all measurements are in centimetres\n",
        "\n",
        "<img src=\"https://www.computing.dcu.ie/~amccarren/mcm_images/Flower.gif\" width=\"370\" height=\"220\" align=\"center\" hspace=\"80\"/>\n",
        "\n",
        "This project does not count for any marks towards your final mark. \n",
        "\n",
        "You will need to do a little research on python utilities to make this work. Pandas groupby function will be useful.\n",
        "\n",
        "**What are we looking for?**\n",
        "\n",
        "A google colab notebook with the following:\n",
        "* The problem you are trying to solve\n",
        "* An analysis of the data using one of the methods you were given from lecture 1. **You do not need to implement any other method and you will not receive extra marks for doing so.** In your analysis state clearly the assumptions you made and why you settled on your final model.\n",
        "* Implement a train/test procedure. \n",
        "* Finally, submit your work in a PPT presentation on loop. "
      ]
    }
  ]
}